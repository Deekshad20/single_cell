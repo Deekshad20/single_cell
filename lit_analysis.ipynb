{
 "cells": [
  {
   "cell_type": "code",
   "execution_count": 369,
   "metadata": {},
   "outputs": [],
   "source": [
    "import requests\n",
    "import json\n",
    "import nferx_py.fn as nf\n",
    "import matplotlib.pyplot as plt\n",
    "import pandas as pd\n",
    "from multiprocessing import pool\n",
    "import seaborn as sns\n",
    "from tqdm import tqdm\n",
    "from nltk.stem import SnowballStemmer\n",
    "from gensim.utils import simple_preprocess\n",
    "import numpy as np\n",
    "from tqdm.notebook import tqdm\n",
    "import os\n",
    "from sklearn.metrics.pairwise import cosine_similarity\n",
    "from sklearn.metrics import auc"
   ]
  },
  {
   "cell_type": "code",
   "execution_count": 2,
   "metadata": {},
   "outputs": [],
   "source": [
    "stemmer = SnowballStemmer('english')"
   ]
  },
  {
   "cell_type": "code",
   "execution_count": 3,
   "metadata": {},
   "outputs": [
    {
     "name": "stderr",
     "output_type": "stream",
     "text": [
      "2020-05-13 11:56:00,120 : INFO : Authentication successful - nferX is online\n",
      "2020-05-13 11:56:00,121 : INFO : Default parameter server modified\n",
      "2020-05-13 11:56:00,122 : INFO : Default parameter api_server modified\n"
     ]
    }
   ],
   "source": [
    "nf.authenticate('nfer','6eaa1d27bfa0639f2712191fa55df872')\n",
    "nf.modify_defaults('server', 'preview')\n",
    "nf.modify_defaults('api_server', 'preview')\n",
    "AUTH = nf.AUTH"
   ]
  },
  {
   "attachments": {},
   "cell_type": "markdown",
   "metadata": {},
   "source": [
    "### notes\n",
    "1. Get local scores for all gene/cell combinations from single cell api for Tabula muris (study 2) and mouse cell atlas (study 15)\n",
    "2. Do \"intra-study\" testing: for each Tabula Muris cluster, (1) identify the subset of genes to consider (e.g. top 0.05% by cohen's D vs. all other cells), (2) calculate cosine similarity between mean CP10K vector of this gene subset and the literature score vectors for all Tabula Muris cell types with this same gene subset. This would give us a ranked list of literature-derived labels for each cluster. Then repeat this with Mouse Cell Atlas. ---- Cosine sim did not work out---- Switched to calculating vector norms of literature scores of top genes from selected from cluster A, accross all clusters \n",
    "\n",
    "- For each cluster to label C:\n",
    "    1. Select the top n genes by Cohen’s D (e.g. top 5, 10, 25)\n",
    "    2. From API, get the fraction of cells in cluster C which express each gene\n",
    "    3. From literature reference table, get the local scores between each reference cell type and the top n genes\n",
    "    4. Multiply “Fraction cells expressing in cluster C” column by each “Ref_CellTypeX_LocalScores” column to get a set of “literature encoded expression vectors” for each reference cell type\n",
    "    5. For each “Lit Encoded Vector” column, calculate L0, L1, L2, and L-inf norms\n",
    "        L0: number of non-zero elements\n",
    "        L1: sum of all values\n",
    "        L2: square root of sum of squares\n",
    "        L-inf: max value\n",
    "    Output: four tables of Clusters To Label (rows) * Reference Cell Types \n",
    "    Table 1 = L0 norm, Table 2 = L1 norm, Table 3 = L2 norm, Table 4 = L-inf norm\n",
    "    \n",
    "-----------\n",
    "Update: 05/15\n",
    "\n",
    "use global scores\n",
    "\n",
    "-------------step 4 yet to be done------------------------\n",
    "4. Do \"inter-study\" testing: for each Tabula Muris cluster, (1) identify the subset of genes to consider (e.g. top 0.05% by cohen's D vs. all other cells), (2) calculate cosine similarity between mean CP10K vector of this gene subset and the literature score vectors for all Mouse Cell Atlas cell types with this same gene subset. Then repeat this to label all Mouse Cell Atlas clusters using the literature vectors from the Tabula Muris dataset. This will require some handling of synonyms/cell \"families\" which I provided to Katie for this analysis ... but we could go over that later since step 2 alone will take some time to set up and optimize I think"
   ]
  },
  {
   "cell_type": "markdown",
   "metadata": {},
   "source": [
    "### POST to single cell api to get the table"
   ]
  },
  {
   "cell_type": "code",
   "execution_count": 889,
   "metadata": {},
   "outputs": [],
   "source": [
    "URL = 'https://pre-staging.nferx.com/singlecellapi/study2/summary?'\n",
    "headers = {'content-type' : 'application/json'}\n",
    "res = requests.post(url = URL, params = {'page': 1, 'rows': 3412880}, auth = AUTH)\n",
    "data_all = pd.DataFrame(res.json()['result']['data'])\n",
    "# d.drop(columns=['localScoreCellType', 'localScoreTissueType', 'greaterThanZero'], inplace = True)\n",
    "data_all_backup = data_all.copy(deep = True)\n",
    "# data_all.drop(columns=['localScoreTissueType', 'greaterThanZero'], inplace = True)\n"
   ]
  },
  {
   "cell_type": "markdown",
   "metadata": {},
   "source": [
    "### litreature vectors"
   ]
  },
  {
   "cell_type": "code",
   "execution_count": 948,
   "metadata": {},
   "outputs": [],
   "source": [
    "class Literature_model():\n",
    "\n",
    "    def __init__(self, data = data_all, savepath = './data/results/global_score/', use_score = ''):\n",
    "        \n",
    "        data['Score'] = [d[use_score] for d in data.localScoreCellType]\n",
    "        data['cluster'] = data.cellType.str.replace(' ', '_') + ';'+data.tissueType.str.replace(' ', '_')\n",
    "        self.gene_cluster_score = data.pivot(index = 'geneName', \n",
    "                                                  columns = 'cluster',\n",
    "                                                  values = 'Score')\n",
    "    \n",
    "        self.savepath = savepath\n",
    "        self.dfs_all = dict() \n",
    "        \n",
    "    def get_top_genes_vector(self, df, top_n = None, quantile = 0.995, cols = ['cohenD', 'mean', 'greaterThanZero']):\n",
    "        #matrix 1: top-genes means (shape: 1*N)\n",
    "        df = df.set_index('geneName')\n",
    "        if top_n:\n",
    "            return df.sort_values(by = 'cohenD', ascending = False)[cols].iloc[0:top_n]\n",
    "\n",
    "        cutoff = df.cohenD.quantile([0.995]).values[0]\n",
    "        top_genes_vec = df.loc[df.cohenD >= cutoff, cols]\n",
    "\n",
    "\n",
    "        return top_genes_vec\n",
    "    \n",
    "    def get_measure_matrix(self, top_genes_subset, metric = 'cosine'):\n",
    "        cluster = top_genes_subset.cluster[0]\n",
    "        #matrix 1: top-genes means (shape: 1*N)\n",
    "        top_genes_mean = top_genes_subset.loc[:, ['geneName', 'mean']].set_index('geneName').transpose()\n",
    "        #matrix 2: top-genes(N) vs all - clusters'(M) local score (shape: N*M)\n",
    "        gene_local_score_subset = self.gene_cluster_score.loc[top_genes_mean.columns,:]\n",
    "\n",
    "        #get literature vector\n",
    "        lit_encoded_subset = gene_local_score_subset.multiply(top_genes_subset.loc[:, 'greaterThanZero'].values, \n",
    "                                                                  axis = 0)\n",
    "\n",
    "        #apply norms\n",
    "\n",
    "        if metric == 'norm-all':\n",
    "            score0 = (lit_encoded_subset != 0).sum()\n",
    "            score1 = lit_encoded_subset.sum()\n",
    "            score2 = lit_encoded_subset.pow(2).sum().pow(1/2)\n",
    "            scoreINF = lit_encoded_subset.max()\n",
    "\n",
    "            return [score0, score1, score2, scoreINF]\n",
    "\n",
    "        elif metric == 'cosine':\n",
    "            assert top_genes_mean.shape[1] == lit_encoded_subset.shape[0]\n",
    "            score = cosine_similarity(top_genes_mean.to_numpy(), lit_encoded_subset.transpose())\n",
    "            score = pd.Series(score.reshape(-1), index = lit_encoded_subset.columns)\n",
    "        elif metric == 'l0':\n",
    "            score = (lit_encoded_subset != 0).sum()\n",
    "        elif metric == 'l1':\n",
    "            score = lit_encoded_subset.sum()\n",
    "        elif metric == 'l2':\n",
    "            score = lit_encoded_subset.pow(2).sum().pow(1/2)\n",
    "        elif metric == 'inf':\n",
    "            score = lit_encoded_subset.max()\n",
    "\n",
    "        return score\n",
    "    \n",
    "    \n",
    "    #top n genes; all norrms\n",
    "    def use_measure(self, n_genes = [5, 10, 25], metric = 'norm-all', \n",
    "                    save = False):\n",
    "        for n in n_genes:\n",
    "            cluster_mean_vectors = data_all.groupby('cluster').apply(lambda x: self.get_top_genes_vector(x, top_n = n))\n",
    "            cluster_mean_vectors.loc[:, 'greaterThanZero'] = cluster_mean_vectors.loc[:, 'greaterThanZero']/100\n",
    "            cluster_mean_vectors = cluster_mean_vectors.reset_index()\n",
    "            res = cluster_mean_vectors.groupby('cluster').apply(lambda x: self.get_measure_matrix(x, metric))\n",
    "            if metric == 'norm-all':\n",
    "                norms = ['L0', 'L1', 'L2', 'Linf']\n",
    "                for i, norm in enumerate(norms):\n",
    "                    name = '{}_{:02}'.format(norm, n)\n",
    "                    df = res.apply(lambda x: x[i])\n",
    "                    self.dfs_all[name] = df\n",
    "                    if save:\n",
    "                        df.index = df.index + '_TRUE'\n",
    "                        df.to_csv(self.savepath+'{}_{:02}_genes.csv'.format(norm, n))\n",
    "            else:\n",
    "                name = '{}_{:02}'.format(metric, n)\n",
    "                self.dfs_all[name] = res\n",
    "                if save:\n",
    "                    res.index = res.index + '_TRUE'\n",
    "                    res.to_csv(self.savepath+'{}_{:02}_genes.csv'.format(metric, n))\n",
    "        return dfs\n",
    "\n",
    "    \n",
    "    def run(self, metric = ['cosine', 'norm-all']):\n",
    "        \n",
    "        _ = list(map(lambda x: self.use_measure(metric = x, save = True), metric))\n",
    "        self.get_ranks()\n",
    "        \n",
    "    def get_ranks(self):\n",
    "        metric_rank_df = pd.DataFrame(range(0,97), columns=['rank'])\n",
    "        #mappings frorm pat\n",
    "        cell_maps = pd.read_csv('./data/TM_clusters_map.csv')\n",
    "        cell_maps.set_index('cluster', inplace=True)\n",
    "        for key, df in self.dfs_all.items():\n",
    "#             df = pd.read_csv(self.savepath+file, index_col = 0)\n",
    "            df.columns = df.index = df.columns.str.replace(';|-', '.') \n",
    "            df.columns = df.index = cell_maps.loc[df.columns, 'map'] \n",
    "            ranks_all = df.T.reset_index().drop_duplicates().set_index('map').apply(lambda x: \n",
    "                                                        x.sort_values(ascending = False).index, \n",
    "                                                        axis = 0).reset_index(drop = True).apply(lambda x:\n",
    "                                                        x[x.name == x].index.to_list())\n",
    "            cluster_ranks = ranks_all.apply(lambda x:x[0])\n",
    "            metric_rank_df[key] = metric_rank_df.loc[:,'rank'].apply(lambda x: \n",
    "                                                                               (cluster_ranks < x).sum()/148)\n",
    "\n",
    "\n",
    "        metric_rank_df['rank'] = metric_rank_df['rank']/96\n",
    "        var_name_ = 'Measure_Top N genes'\n",
    "        self.plot_df = metric_rank_df.melt(id_vars = 'rank', \n",
    "                                           var_name = var_name_,\n",
    "                                           value_name='n_top_rank_clusters')\n",
    "        \n",
    "        self.plot_df['norm'] = list(map(lambda x: x[0], self.plot_df[var_name_].str.split('_')))\n",
    "        self.plot_df['n_top_genes'] = list(map(lambda x: str(x[1]), self.plot_df[var_name_].str.split('_')))\n",
    "        self.plot_df['n_top_genes'] = self.plot_df.n_top_genes.astype('category')\n",
    "        \n",
    "        auc_ = self.plot_df.groupby(['norm', \n",
    "                                'n_top_genes']).apply(lambda x: \n",
    "                                    auc(x['rank'], x['n_top_rank_clusters'])).to_frame(name = 'auc').reset_index()\n",
    "\n",
    "        self.plot_df = pd.merge(self.plot_df, auc_, how = 'left', on = ['norm', 'n_top_genes'])\n",
    "        self.plot_df[var_name_ + ' | AUC'] = self.plot_df[var_name_] +  ' | ' + self.plot_df['auc'].round(3).astype(str)\n",
    "    \n",
    "            \n",
    "#     files = os.listdir(self.savepath)\n",
    "    #investigating low perfonming clusters\n",
    "    def get_ranks_for_file(self, filename):\n",
    "        df = pd.read_csv(filename, index_col = 0)\n",
    "        idx_true = df.index.str.rstrip('_TRUE')\n",
    "        idx_true.name = 'cluster'\n",
    "        df.columns = df.index = df.columns.str.replace(';|-', '.') \n",
    "        df.columns = df.index = cell_maps.loc[df.columns, 'map'] \n",
    "\n",
    "        ranks_all = df.T.reset_index().drop_duplicates().set_index('map').apply(lambda x: \n",
    "                                                                              x.sort_values(ascending = False).index, \n",
    "                                     axis = 0).reset_index(drop = True).apply(lambda x:\n",
    "                                                                              x[x.name == x].index.to_list())\n",
    "\n",
    "        ranks_all = ranks_all.apply(lambda x: x[0]).to_frame(name = 'rank')\n",
    "        ranks_all.index = idx_true\n",
    "        return ranks_all.sort_values(by = 'rank'), df"
   ]
  },
  {
   "cell_type": "code",
   "execution_count": 949,
   "metadata": {
    "scrolled": true
   },
   "outputs": [
    {
     "name": "stdout",
     "output_type": "stream",
     "text": [
      "CPU times: user 7.99 s, sys: 741 ms, total: 8.73 s\n",
      "Wall time: 8.78 s\n"
     ]
    }
   ],
   "source": [
    "%%time\n",
    "c = Literature_model(data = data_all, use_score='localScore')\n",
    "c.run()"
   ]
  },
  {
   "cell_type": "code",
   "execution_count": 957,
   "metadata": {},
   "outputs": [
    {
     "data": {
      "text/html": [
       "<div>\n",
       "<style scoped>\n",
       "    .dataframe tbody tr th:only-of-type {\n",
       "        vertical-align: middle;\n",
       "    }\n",
       "\n",
       "    .dataframe tbody tr th {\n",
       "        vertical-align: top;\n",
       "    }\n",
       "\n",
       "    .dataframe thead th {\n",
       "        text-align: right;\n",
       "    }\n",
       "</style>\n",
       "<table border=\"1\" class=\"dataframe\">\n",
       "  <thead>\n",
       "    <tr style=\"text-align: right;\">\n",
       "      <th></th>\n",
       "      <th>rank</th>\n",
       "      <th>Measure_Top N genes</th>\n",
       "      <th>n_top_rank_clusters</th>\n",
       "      <th>norm</th>\n",
       "      <th>n_top_genes</th>\n",
       "      <th>auc</th>\n",
       "      <th>Measure_Top N genes | AUC</th>\n",
       "    </tr>\n",
       "  </thead>\n",
       "  <tbody>\n",
       "    <tr>\n",
       "      <th>0</th>\n",
       "      <td>0.000000</td>\n",
       "      <td>cosine_05</td>\n",
       "      <td>0.000000</td>\n",
       "      <td>cosine</td>\n",
       "      <td>05</td>\n",
       "      <td>0.786669</td>\n",
       "      <td>cosine_05 | 0.787</td>\n",
       "    </tr>\n",
       "    <tr>\n",
       "      <th>1</th>\n",
       "      <td>0.010417</td>\n",
       "      <td>cosine_05</td>\n",
       "      <td>0.094595</td>\n",
       "      <td>cosine</td>\n",
       "      <td>05</td>\n",
       "      <td>0.786669</td>\n",
       "      <td>cosine_05 | 0.787</td>\n",
       "    </tr>\n",
       "    <tr>\n",
       "      <th>2</th>\n",
       "      <td>0.020833</td>\n",
       "      <td>cosine_05</td>\n",
       "      <td>0.168919</td>\n",
       "      <td>cosine</td>\n",
       "      <td>05</td>\n",
       "      <td>0.786669</td>\n",
       "      <td>cosine_05 | 0.787</td>\n",
       "    </tr>\n",
       "    <tr>\n",
       "      <th>3</th>\n",
       "      <td>0.031250</td>\n",
       "      <td>cosine_05</td>\n",
       "      <td>0.175676</td>\n",
       "      <td>cosine</td>\n",
       "      <td>05</td>\n",
       "      <td>0.786669</td>\n",
       "      <td>cosine_05 | 0.787</td>\n",
       "    </tr>\n",
       "    <tr>\n",
       "      <th>4</th>\n",
       "      <td>0.041667</td>\n",
       "      <td>cosine_05</td>\n",
       "      <td>0.229730</td>\n",
       "      <td>cosine</td>\n",
       "      <td>05</td>\n",
       "      <td>0.786669</td>\n",
       "      <td>cosine_05 | 0.787</td>\n",
       "    </tr>\n",
       "    <tr>\n",
       "      <th>...</th>\n",
       "      <td>...</td>\n",
       "      <td>...</td>\n",
       "      <td>...</td>\n",
       "      <td>...</td>\n",
       "      <td>...</td>\n",
       "      <td>...</td>\n",
       "      <td>...</td>\n",
       "    </tr>\n",
       "    <tr>\n",
       "      <th>1450</th>\n",
       "      <td>0.958333</td>\n",
       "      <td>Linf_25</td>\n",
       "      <td>0.986486</td>\n",
       "      <td>Linf</td>\n",
       "      <td>25</td>\n",
       "      <td>0.845650</td>\n",
       "      <td>Linf_25 | 0.846</td>\n",
       "    </tr>\n",
       "    <tr>\n",
       "      <th>1451</th>\n",
       "      <td>0.968750</td>\n",
       "      <td>Linf_25</td>\n",
       "      <td>1.000000</td>\n",
       "      <td>Linf</td>\n",
       "      <td>25</td>\n",
       "      <td>0.845650</td>\n",
       "      <td>Linf_25 | 0.846</td>\n",
       "    </tr>\n",
       "    <tr>\n",
       "      <th>1452</th>\n",
       "      <td>0.979167</td>\n",
       "      <td>Linf_25</td>\n",
       "      <td>1.000000</td>\n",
       "      <td>Linf</td>\n",
       "      <td>25</td>\n",
       "      <td>0.845650</td>\n",
       "      <td>Linf_25 | 0.846</td>\n",
       "    </tr>\n",
       "    <tr>\n",
       "      <th>1453</th>\n",
       "      <td>0.989583</td>\n",
       "      <td>Linf_25</td>\n",
       "      <td>1.000000</td>\n",
       "      <td>Linf</td>\n",
       "      <td>25</td>\n",
       "      <td>0.845650</td>\n",
       "      <td>Linf_25 | 0.846</td>\n",
       "    </tr>\n",
       "    <tr>\n",
       "      <th>1454</th>\n",
       "      <td>1.000000</td>\n",
       "      <td>Linf_25</td>\n",
       "      <td>1.000000</td>\n",
       "      <td>Linf</td>\n",
       "      <td>25</td>\n",
       "      <td>0.845650</td>\n",
       "      <td>Linf_25 | 0.846</td>\n",
       "    </tr>\n",
       "  </tbody>\n",
       "</table>\n",
       "<p>1455 rows × 7 columns</p>\n",
       "</div>"
      ],
      "text/plain": [
       "          rank Measure_Top N genes  n_top_rank_clusters    norm n_top_genes  \\\n",
       "0     0.000000           cosine_05             0.000000  cosine          05   \n",
       "1     0.010417           cosine_05             0.094595  cosine          05   \n",
       "2     0.020833           cosine_05             0.168919  cosine          05   \n",
       "3     0.031250           cosine_05             0.175676  cosine          05   \n",
       "4     0.041667           cosine_05             0.229730  cosine          05   \n",
       "...        ...                 ...                  ...     ...         ...   \n",
       "1450  0.958333             Linf_25             0.986486    Linf          25   \n",
       "1451  0.968750             Linf_25             1.000000    Linf          25   \n",
       "1452  0.979167             Linf_25             1.000000    Linf          25   \n",
       "1453  0.989583             Linf_25             1.000000    Linf          25   \n",
       "1454  1.000000             Linf_25             1.000000    Linf          25   \n",
       "\n",
       "           auc Measure_Top N genes | AUC  \n",
       "0     0.786669         cosine_05 | 0.787  \n",
       "1     0.786669         cosine_05 | 0.787  \n",
       "2     0.786669         cosine_05 | 0.787  \n",
       "3     0.786669         cosine_05 | 0.787  \n",
       "4     0.786669         cosine_05 | 0.787  \n",
       "...        ...                       ...  \n",
       "1450  0.845650           Linf_25 | 0.846  \n",
       "1451  0.845650           Linf_25 | 0.846  \n",
       "1452  0.845650           Linf_25 | 0.846  \n",
       "1453  0.845650           Linf_25 | 0.846  \n",
       "1454  0.845650           Linf_25 | 0.846  \n",
       "\n",
       "[1455 rows x 7 columns]"
      ]
     },
     "execution_count": 957,
     "metadata": {},
     "output_type": "execute_result"
    }
   ],
   "source": [
    "c.plot_df"
   ]
  },
  {
   "cell_type": "code",
   "execution_count": 956,
   "metadata": {},
   "outputs": [
    {
     "data": {
      "text/plain": [
       "Text(0, 0.5, 'Fractions of Clusters Labeled Correctly')"
      ]
     },
     "execution_count": 956,
     "metadata": {},
     "output_type": "execute_result"
    },
    {
     "data": {
      "image/png": "[encoded data removed]",
      "text/plain": [
       "<Figure size 1008x720 with 1 Axes>"
      ]
     },
     "metadata": {},
     "output_type": "display_data"
    }
   ],
   "source": [
    "sns.set()\n",
    "var_name_ =  'Measure_Top N genes | AUC'\n",
    "fig = plt.figure(figsize=(14,10))\n",
    "\n",
    "ax = sns.lineplot(data = c.plot_df, \n",
    "             x = 'rank', \n",
    "             y = 'n_top_rank_clusters',\n",
    "             hue=var_name_, hue_order=sorted(c.plot_df[var_name_].unique()),\n",
    "             palette=sns.color_palette(\"Paired\", 15))\n",
    "plt.setp(ax.get_legend().get_texts(), fontsize='15') # for legend text\n",
    "plt.setp(ax.get_legend().get_title(), fontsize='20')\n",
    "ax.axes.set_title(\"Literature Based Cluster Predictions (Tabula Muris; Global Score)\",fontsize=25)\n",
    "ax.set_xlabel(\"Rank Threshold\",fontsize=20)\n",
    "ax.set_ylabel(\"Fractions of Clusters Labeled Correctly\",fontsize=20)"
   ]
  },
  {
   "cell_type": "code",
   "execution_count": 777,
   "metadata": {},
   "outputs": [
    {
     "data": {
      "text/plain": [
       "<Figure size 432x288 with 0 Axes>"
      ]
     },
     "metadata": {},
     "output_type": "display_data"
    }
   ],
   "source": [
    "plt.savefig('./plots/lit_prredictions_auc.png')"
   ]
  },
  {
   "cell_type": "markdown",
   "metadata": {},
   "source": [
    "### some exploration"
   ]
  },
  {
   "cell_type": "code",
   "execution_count": 805,
   "metadata": {},
   "outputs": [],
   "source": [
    "cluster_mean_vectors = data_all.groupby('cluster').apply(lambda x: get_top_genes_vector(x, top_n = 5))"
   ]
  },
  {
   "cell_type": "code",
   "execution_count": 806,
   "metadata": {},
   "outputs": [
    {
     "data": {
      "text/html": [
       "<div>\n",
       "<style scoped>\n",
       "    .dataframe tbody tr th:only-of-type {\n",
       "        vertical-align: middle;\n",
       "    }\n",
       "\n",
       "    .dataframe tbody tr th {\n",
       "        vertical-align: top;\n",
       "    }\n",
       "\n",
       "    .dataframe thead th {\n",
       "        text-align: right;\n",
       "    }\n",
       "</style>\n",
       "<table border=\"1\" class=\"dataframe\">\n",
       "  <thead>\n",
       "    <tr style=\"text-align: right;\">\n",
       "      <th></th>\n",
       "      <th></th>\n",
       "      <th>cohenD</th>\n",
       "      <th>mean</th>\n",
       "      <th>greaterThanZero</th>\n",
       "    </tr>\n",
       "    <tr>\n",
       "      <th>cluster</th>\n",
       "      <th>geneName</th>\n",
       "      <th></th>\n",
       "      <th></th>\n",
       "      <th></th>\n",
       "    </tr>\n",
       "  </thead>\n",
       "  <tbody>\n",
       "    <tr>\n",
       "      <th rowspan=\"5\" valign=\"top\">Alveolar_macrophages;lung</th>\n",
       "      <th>Chi3l3</th>\n",
       "      <td>2.911539</td>\n",
       "      <td>4.482258</td>\n",
       "      <td>100.000000</td>\n",
       "    </tr>\n",
       "    <tr>\n",
       "      <th>Tmsb4x</th>\n",
       "      <td>2.888863</td>\n",
       "      <td>5.654968</td>\n",
       "      <td>100.000000</td>\n",
       "    </tr>\n",
       "    <tr>\n",
       "      <th>Sepx1</th>\n",
       "      <td>2.431341</td>\n",
       "      <td>2.659609</td>\n",
       "      <td>99.420290</td>\n",
       "    </tr>\n",
       "    <tr>\n",
       "      <th>Cd44</th>\n",
       "      <td>2.388964</td>\n",
       "      <td>2.767570</td>\n",
       "      <td>99.710145</td>\n",
       "    </tr>\n",
       "    <tr>\n",
       "      <th>Serf2</th>\n",
       "      <td>2.347590</td>\n",
       "      <td>3.166469</td>\n",
       "      <td>99.710145</td>\n",
       "    </tr>\n",
       "    <tr>\n",
       "      <th>...</th>\n",
       "      <th>...</th>\n",
       "      <td>...</td>\n",
       "      <td>...</td>\n",
       "      <td>...</td>\n",
       "    </tr>\n",
       "    <tr>\n",
       "      <th rowspan=\"5\" valign=\"top\">type_II_pneumocytes;lung</th>\n",
       "      <th>Sftpb</th>\n",
       "      <td>4.507700</td>\n",
       "      <td>5.003388</td>\n",
       "      <td>100.000000</td>\n",
       "    </tr>\n",
       "    <tr>\n",
       "      <th>Sftpc</th>\n",
       "      <td>4.118964</td>\n",
       "      <td>7.447270</td>\n",
       "      <td>100.000000</td>\n",
       "    </tr>\n",
       "    <tr>\n",
       "      <th>Sftpa1</th>\n",
       "      <td>3.522555</td>\n",
       "      <td>5.416618</td>\n",
       "      <td>100.000000</td>\n",
       "    </tr>\n",
       "    <tr>\n",
       "      <th>Sfta2</th>\n",
       "      <td>3.050134</td>\n",
       "      <td>2.864463</td>\n",
       "      <td>96.629213</td>\n",
       "    </tr>\n",
       "    <tr>\n",
       "      <th>Sftpd</th>\n",
       "      <td>2.991714</td>\n",
       "      <td>3.619013</td>\n",
       "      <td>100.000000</td>\n",
       "    </tr>\n",
       "  </tbody>\n",
       "</table>\n",
       "<p>740 rows × 3 columns</p>\n",
       "</div>"
      ],
      "text/plain": [
       "                                      cohenD      mean  greaterThanZero\n",
       "cluster                   geneName                                     \n",
       "Alveolar_macrophages;lung Chi3l3    2.911539  4.482258       100.000000\n",
       "                          Tmsb4x    2.888863  5.654968       100.000000\n",
       "                          Sepx1     2.431341  2.659609        99.420290\n",
       "                          Cd44      2.388964  2.767570        99.710145\n",
       "                          Serf2     2.347590  3.166469        99.710145\n",
       "...                                      ...       ...              ...\n",
       "type_II_pneumocytes;lung  Sftpb     4.507700  5.003388       100.000000\n",
       "                          Sftpc     4.118964  7.447270       100.000000\n",
       "                          Sftpa1    3.522555  5.416618       100.000000\n",
       "                          Sfta2     3.050134  2.864463        96.629213\n",
       "                          Sftpd     2.991714  3.619013       100.000000\n",
       "\n",
       "[740 rows x 3 columns]"
      ]
     },
     "execution_count": 806,
     "metadata": {},
     "output_type": "execute_result"
    }
   ],
   "source": [
    "cluster_mean_vectors"
   ]
  },
  {
   "cell_type": "code",
   "execution_count": 831,
   "metadata": {},
   "outputs": [],
   "source": [
    "# lc.columns = lc.columns.str.replace(';|-', '.') \n",
    "\n",
    "# rank_df.to_csv('./data/ranks_l1_25_global_score.csv')\n",
    "\n",
    "# l = df.T.reset_index().drop_duplicates().set_index('map').apply(lambda x: \n",
    "#                                                                           x.sort_values(ascending = False).index, \n",
    "#                                  axis = 0).reset_index(drop = True).iloc[0:9, -1].to_list()\n",
    "\n",
    "# df.T.reset_index().drop_duplicates().set_index('map').apply(lambda x: \n",
    "#                                                                           x.sort_values(ascending = False).index, \n",
    "#                                  axis = 0).reset_index(drop = True)\n",
    "\n",
    "# cell_maps.loc[cell_maps['map'].isin(l)]\n",
    "# lc = pd.read_csv('./data/local_score_top_25_type_II_pneumocytes.csv', index_col = 0)"
   ]
  },
  {
   "cell_type": "markdown",
   "metadata": {},
   "source": [
    "### Preevious "
   ]
  },
  {
   "cell_type": "code",
   "execution_count": 61,
   "metadata": {},
   "outputs": [
    {
     "data": {
      "text/html": [
       "<div>\n",
       "<style scoped>\n",
       "    .dataframe tbody tr th:only-of-type {\n",
       "        vertical-align: middle;\n",
       "    }\n",
       "\n",
       "    .dataframe tbody tr th {\n",
       "        vertical-align: top;\n",
       "    }\n",
       "\n",
       "    .dataframe thead th {\n",
       "        text-align: right;\n",
       "    }\n",
       "</style>\n",
       "<table border=\"1\" class=\"dataframe\">\n",
       "  <thead>\n",
       "    <tr style=\"text-align: right;\">\n",
       "      <th></th>\n",
       "      <th></th>\n",
       "      <th>cohenD</th>\n",
       "      <th>mean</th>\n",
       "      <th>greaterThanZero</th>\n",
       "    </tr>\n",
       "    <tr>\n",
       "      <th>cluster</th>\n",
       "      <th>geneName</th>\n",
       "      <th></th>\n",
       "      <th></th>\n",
       "      <th></th>\n",
       "    </tr>\n",
       "  </thead>\n",
       "  <tbody>\n",
       "    <tr>\n",
       "      <th rowspan=\"5\" valign=\"top\">Alveolar_macrophages;lung</th>\n",
       "      <th>Chi3l3</th>\n",
       "      <td>2.911539</td>\n",
       "      <td>4.482258</td>\n",
       "      <td>100.000000</td>\n",
       "    </tr>\n",
       "    <tr>\n",
       "      <th>Tmsb4x</th>\n",
       "      <td>2.888863</td>\n",
       "      <td>5.654968</td>\n",
       "      <td>100.000000</td>\n",
       "    </tr>\n",
       "    <tr>\n",
       "      <th>Sepx1</th>\n",
       "      <td>2.431341</td>\n",
       "      <td>2.659609</td>\n",
       "      <td>99.420290</td>\n",
       "    </tr>\n",
       "    <tr>\n",
       "      <th>Cd44</th>\n",
       "      <td>2.388964</td>\n",
       "      <td>2.767570</td>\n",
       "      <td>99.710145</td>\n",
       "    </tr>\n",
       "    <tr>\n",
       "      <th>Serf2</th>\n",
       "      <td>2.347590</td>\n",
       "      <td>3.166469</td>\n",
       "      <td>99.710145</td>\n",
       "    </tr>\n",
       "  </tbody>\n",
       "</table>\n",
       "</div>"
      ],
      "text/plain": [
       "                                      cohenD      mean  greaterThanZero\n",
       "cluster                   geneName                                     \n",
       "Alveolar_macrophages;lung Chi3l3    2.911539  4.482258       100.000000\n",
       "                          Tmsb4x    2.888863  5.654968       100.000000\n",
       "                          Sepx1     2.431341  2.659609        99.420290\n",
       "                          Cd44      2.388964  2.767570        99.710145\n",
       "                          Serf2     2.347590  3.166469        99.710145"
      ]
     },
     "execution_count": 61,
     "metadata": {},
     "output_type": "execute_result"
    }
   ],
   "source": [
    "cluster_mean_vectors.loc[slice('Alveolar_macrophages;lung')]"
   ]
  },
  {
   "cell_type": "code",
   "execution_count": null,
   "metadata": {},
   "outputs": [],
   "source": [
    "collection =  'patrick-cells-pl-200304'\n",
    "n = 10\n",
    "def query_lab(gene_list, n=n, collection=collection, window = 101):\n",
    "    result_df = pd.DataFrame()\n",
    "    for gene in tqdm(gene_list[0:n]): \n",
    "        query = gene\n",
    "        res = nf.get_signals_lab(query = query, control_collection = collection, \n",
    "                                 window = window)\n",
    "\n",
    "        if type(res)!= str:\n",
    "            res = pd.DataFrame(res)\n",
    "            res['gene'] = gene\n",
    "            result_df = pd.concat([result_df, res])\n",
    "        #res.token = res.token.str.upper()\n",
    "     \n",
    "    return result_df.pivot(index = 'gene', columns = 'token', values = 'score').astype('float32')"
   ]
  },
  {
   "cell_type": "code",
   "execution_count": null,
   "metadata": {},
   "outputs": [],
   "source": [
    "df_test = top_genes.iloc[0:1].apply(query_lab)"
   ]
  },
  {
   "cell_type": "code",
   "execution_count": null,
   "metadata": {
    "scrolled": true
   },
   "outputs": [],
   "source": [
    "df_all = top_genes.apply(query_lab)"
   ]
  },
  {
   "cell_type": "code",
   "execution_count": null,
   "metadata": {},
   "outputs": [],
   "source": [
    "syns_all  =  set([tok for ls in syns for tok in ls])\n",
    "def sort_df(df, q = [0.3, 0.5, 0.75], by = [0.75, 0.5, 0.3]):\n",
    "    df_collapsed = pd.DataFrame()\n",
    "    df = df.T\n",
    "    no_match = df.index.difference(syns_all)\n",
    "#     print(no_match)\n",
    "    df.insert(loc = 0, column = 'count', value = n - df.isna().sum(1))\n",
    "    for i, syn in tqdm(enumerate(syns)):\n",
    "        df_subset = df[df.index.isin(syn)]\n",
    "        if not df_subset.empty:\n",
    "#             print(i)\n",
    "#             print('\\n',df_subset.index)\n",
    "            \n",
    "            df_idx = df_subset['count'].idxmax()\n",
    "            df_max = df_subset.max()\n",
    "            df_max.name = df_idx\n",
    "            df_collapsed = pd.concat([df_collapsed, df_max], axis=1)\n",
    "    if not df.loc[no_match,:].empty:\n",
    "        df_collapsed = pd.concat([df_collapsed, df.loc[no_match,:].T], axis = 1)\n",
    "    quantiles = df_collapsed.quantile(q, axis = 0)\n",
    "    df_collapsed = pd.concat([quantiles, df_collapsed]).T\n",
    "    df_collapsed = df_collapsed.sort_values(by = by, ascending = False)\n",
    "    \n",
    "    return df_collapsed.drop_duplicates()"
   ]
  },
  {
   "cell_type": "code",
   "execution_count": null,
   "metadata": {},
   "outputs": [],
   "source": [
    "df_all[0].T"
   ]
  },
  {
   "cell_type": "code",
   "execution_count": null,
   "metadata": {},
   "outputs": [],
   "source": [
    "sorted_dfs = list(map(sort_df, df_all))"
   ]
  },
  {
   "cell_type": "code",
   "execution_count": null,
   "metadata": {},
   "outputs": [],
   "source": [
    "z = df_all[0].columns.difference(syns_all)"
   ]
  },
  {
   "cell_type": "code",
   "execution_count": null,
   "metadata": {},
   "outputs": [],
   "source": [
    "df_all[0].loc[:,'yolk_sac_derived_macrophages']"
   ]
  },
  {
   "cell_type": "code",
   "execution_count": null,
   "metadata": {
    "scrolled": false
   },
   "outputs": [],
   "source": [
    "lit_df = pd.DataFrame()\n",
    "for i, idx in enumerate(top_genes.index):\n",
    "    df = sorted_dfs[i].copy(deep = True)\n",
    "#     df.insert(loc = 0, column = 'count', value = n - df.isna().sum(1))\n",
    "    df.insert(loc = 0, column = 'tissue', value = idx[0])\n",
    "    df.insert(loc = 0, column = 'true_cell', value = idx[1])\n",
    "    df = df.reset_index(drop = False, inplace = False)\n",
    "    df.columns = ['token'] + df.columns[1:].to_list()\n",
    "#     df = df[df['count'] > 3]\n",
    "    lit_df = pd.concat([lit_df, df.loc[0:10, ['token', 'true_cell', 'tissue', 'count']]])"
   ]
  },
  {
   "cell_type": "code",
   "execution_count": null,
   "metadata": {},
   "outputs": [],
   "source": [
    "lit_df.to_csv('./data/t10_genes_per_cluster.csv')"
   ]
  },
  {
   "cell_type": "code",
   "execution_count": null,
   "metadata": {},
   "outputs": [],
   "source": [
    "lit_df"
   ]
  },
  {
   "cell_type": "code",
   "execution_count": null,
   "metadata": {},
   "outputs": [],
   "source": [
    "ees_tokens = pd.read_csv('./data/appendTokens.csv', sep = '\\t', header=None)"
   ]
  },
  {
   "cell_type": "code",
   "execution_count": null,
   "metadata": {},
   "outputs": [],
   "source": [
    "ees_tokens.columns = ['token', 'syn']"
   ]
  },
  {
   "cell_type": "code",
   "execution_count": null,
   "metadata": {},
   "outputs": [],
   "source": [
    "synonyms = ees_tokens.groupby('token').apply(lambda x: x.syn.to_list())"
   ]
  },
  {
   "cell_type": "code",
   "execution_count": null,
   "metadata": {},
   "outputs": [],
   "source": [
    "all_syns = [set([idx]+syn) for idx, syn in synonyms.iteritems()]"
   ]
  },
  {
   "cell_type": "code",
   "execution_count": null,
   "metadata": {},
   "outputs": [],
   "source": [
    "tokens = sorted_dfs[0].index\n",
    "syn_mat = pd.DataFrame(np.eye(len(tokens)), index=idx, columns=idx)"
   ]
  },
  {
   "cell_type": "code",
   "execution_count": null,
   "metadata": {},
   "outputs": [],
   "source": [
    "ees_ = ees_tokens.copy(deep = True)\n",
    "ees_['val'] = 1\n",
    "ees_1 = pd.pivot_table(ees_, index='token', columns='syn', values = 'val').fillna(0)\n",
    "ees_2 = pd.pivot_table(ees_, index='syn', columns='token', values = 'val').fillna(0)"
   ]
  },
  {
   "cell_type": "code",
   "execution_count": null,
   "metadata": {},
   "outputs": [],
   "source": [
    "ees_1.index.intersection(ees_2.index)"
   ]
  },
  {
   "cell_type": "code",
   "execution_count": null,
   "metadata": {},
   "outputs": [],
   "source": [
    "len(all_syns)"
   ]
  },
  {
   "cell_type": "code",
   "execution_count": null,
   "metadata": {},
   "outputs": [],
   "source": [
    "subset = {i: [] for i in range(len(all_syns))}\n",
    "duplicates = {i: [] for i in range(len(all_syns))}\n",
    "for i, syn_set in enumerate(all_syns):\n",
    "    for j, syn_set_ in enumerate(all_syns):\n",
    "        if (i!=j) & (len(syn_set.intersection(syn_set_)) > 0):\n",
    "            print('\\n',i, j, '\\nIntersection: ', syn_set.intersection(syn_set_))\n",
    "            if syn_set_ == syn_set:\n",
    "                duplicates[i].append(j)\n",
    "            else:\n",
    "                subset[i].append(j)\n",
    "                \n",
    "                "
   ]
  },
  {
   "cell_type": "code",
   "execution_count": null,
   "metadata": {},
   "outputs": [],
   "source": [
    "subset"
   ]
  },
  {
   "cell_type": "code",
   "execution_count": null,
   "metadata": {},
   "outputs": [],
   "source": [
    "syns = []\n",
    "for k, v in subset.items():\n",
    "    if v:\n",
    "        syn_subset = synonyms.iloc[[k]+v]\n",
    "        print(syn_subset.index)\n",
    "        s = list(set(syn_subset.explode().to_list() + syn_subset.index.to_list()))\n",
    "        if s not in syns:\n",
    "            syns.append(s)\n",
    "    else:\n",
    "        syns.append(list(set(synonyms.iloc[k] + [synonyms.index[k]])))"
   ]
  },
  {
   "cell_type": "code",
   "execution_count": null,
   "metadata": {
    "scrolled": true
   },
   "outputs": [],
   "source": [
    "syns"
   ]
  },
  {
   "cell_type": "code",
   "execution_count": null,
   "metadata": {},
   "outputs": [],
   "source": [
    "d[d.index.isin(syns[1])]"
   ]
  },
  {
   "cell_type": "code",
   "execution_count": null,
   "metadata": {},
   "outputs": [],
   "source": []
  }
 ],
 "metadata": {
  "kernelspec": {
   "display_name": "Python 3",
   "language": "python",
   "name": "python3"
  },
  "language_info": {
   "codemirror_mode": {
    "name": "ipython",
    "version": 3
   },
   "file_extension": ".py",
   "mimetype": "text/x-python",
   "name": "python",
   "nbconvert_exporter": "python",
   "pygments_lexer": "ipython3",
   "version": "3.7.5"
  }
 },
 "nbformat": 4,
 "nbformat_minor": 2
}
