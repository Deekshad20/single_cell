{
 "cells": [
  {
   "cell_type": "code",
   "execution_count": 108,
   "metadata": {},
   "outputs": [],
   "source": [
    "import requests\n",
    "import json\n",
    "import nferx_py.fn as nf\n",
    "import pandas as pd\n",
    "from multiprocessing import pool\n",
    "import seaborn as sns\n",
    "from tqdm import tqdm\n",
    "from nltk.stem import SnowballStemmer\n",
    "from gensim.utils import simple_preprocess\n",
    "import numpy as np\n",
    "from tqdm.notebook import tqdm\n",
    "from sklearn.metrics.pairwise import cosine_similarity"
   ]
  },
  {
   "cell_type": "code",
   "execution_count": 2,
   "metadata": {},
   "outputs": [],
   "source": [
    "stemmer = SnowballStemmer('english')"
   ]
  },
  {
   "cell_type": "code",
   "execution_count": 3,
   "metadata": {},
   "outputs": [
    {
     "name": "stderr",
     "output_type": "stream",
     "text": [
      "2020-05-11 12:17:30,292 : INFO : Authentication successful - nferX is online\n",
      "2020-05-11 12:17:30,293 : INFO : Default parameter server modified\n",
      "2020-05-11 12:17:30,294 : INFO : Default parameter api_server modified\n"
     ]
    }
   ],
   "source": [
    "nf.authenticate('nfer','6eaa1d27bfa0639f2712191fa55df872')\n",
    "nf.modify_defaults('server', 'preview')\n",
    "nf.modify_defaults('api_server', 'preview')\n",
    "AUTH = nf.AUTH"
   ]
  },
  {
   "cell_type": "markdown",
   "metadata": {},
   "source": [
    "### notes\n",
    "1. Get local scores for all gene/cell combinations from single cell api for Tabula muris (study 2) and mouse cell atlas (study 15)\n",
    "2. Do \"intra-study\" testing: for each Tabula Muris cluster, (1) identify the subset of genes to consider (e.g. top 0.05% by cohen's D vs. all other cells), (2) calculate cosine similarity between mean CP10K vector of this gene subset and the literature score vectors for all Tabula Muris cell types with this same gene subset. This would give us a ranked list of literature-derived labels for each cluster. Then repeat this with Mouse Cell Atlas. ---- Cosine sim did not work out---- Switched to calculating vector norm (root of sum of squares) of literature scores of top genes from selected from cluster A, accross all clusters    \n",
    "-------------step 3 yet to be done------------------------\n",
    "3. Do \"inter-study\" testing: for each Tabula Muris cluster, (1) identify the subset of genes to consider (e.g. top 0.05% by cohen's D vs. all other cells), (2) calculate cosine similarity between mean CP10K vector of this gene subset and the literature score vectors for all Mouse Cell Atlas cell types with this same gene subset. Then repeat this to label all Mouse Cell Atlas clusters using the literature vectors from the Tabula Muris dataset. This will require some handling of synonyms/cell \"families\" which I provided to Katie for this analysis ... but we could go over that later since step 2 alone will take some time to set up and optimize I think"
   ]
  },
  {
   "cell_type": "markdown",
   "metadata": {},
   "source": [
    "### POST to single cell api to get the table"
   ]
  },
  {
   "cell_type": "code",
   "execution_count": 4,
   "metadata": {},
   "outputs": [
    {
     "name": "stderr",
     "output_type": "stream",
     "text": [
      "2020-05-11 12:19:34,533 : INFO : NumExpr defaulting to 8 threads.\n"
     ]
    }
   ],
   "source": [
    "URL = 'https://pre-staging.nferx.com/singlecellapi/study2/summary?'\n",
    "headers = {'content-type' : 'application/json'}\n",
    "res = requests.post(url = URL, params = {'page': 1, 'rows': 3412880}, auth = AUTH)\n",
    "data_all = pd.DataFrame(res.json()['result']['data'])\n",
    "# d.drop(columns=['localScoreCellType', 'localScoreTissueType', 'greaterThanZero'], inplace = True)\n",
    "\n",
    "data_all.drop(columns=['localScoreTissueType', 'greaterThanZero'], inplace = True)\n",
    "data_all.localScoreCellType = [d['localScore'] for d in data_all.localScoreCellType]\n",
    "data_all['cluster'] = data_all.cellType.str.replace(' ', '_') + ';'+data_all.tissueType.str.replace(' ', '_')"
   ]
  },
  {
   "cell_type": "code",
   "execution_count": 5,
   "metadata": {},
   "outputs": [
    {
     "data": {
      "text/html": [
       "<div>\n",
       "<style scoped>\n",
       "    .dataframe tbody tr th:only-of-type {\n",
       "        vertical-align: middle;\n",
       "    }\n",
       "\n",
       "    .dataframe tbody tr th {\n",
       "        vertical-align: top;\n",
       "    }\n",
       "\n",
       "    .dataframe thead th {\n",
       "        text-align: right;\n",
       "    }\n",
       "</style>\n",
       "<table border=\"1\" class=\"dataframe\">\n",
       "  <thead>\n",
       "    <tr style=\"text-align: right;\">\n",
       "      <th></th>\n",
       "      <th>mean</th>\n",
       "      <th>cohenD</th>\n",
       "      <th>localScoreCellType</th>\n",
       "      <th>countOfCells</th>\n",
       "      <th>cohendNA</th>\n",
       "      <th>geneId</th>\n",
       "      <th>cellType</th>\n",
       "      <th>tissueType</th>\n",
       "      <th>geneName</th>\n",
       "      <th>cluster</th>\n",
       "    </tr>\n",
       "  </thead>\n",
       "  <tbody>\n",
       "    <tr>\n",
       "      <th>0</th>\n",
       "      <td>8.853313</td>\n",
       "      <td>8.359104</td>\n",
       "      <td>0.615536</td>\n",
       "      <td>155</td>\n",
       "      <td>False</td>\n",
       "      <td>19188</td>\n",
       "      <td>erythroblasts</td>\n",
       "      <td>bone marrow</td>\n",
       "      <td>Beta-s</td>\n",
       "      <td>erythroblasts;bone_marrow</td>\n",
       "    </tr>\n",
       "    <tr>\n",
       "      <th>1</th>\n",
       "      <td>7.706127</td>\n",
       "      <td>4.943145</td>\n",
       "      <td>1.058810</td>\n",
       "      <td>390</td>\n",
       "      <td>False</td>\n",
       "      <td>11271</td>\n",
       "      <td>pancreatic A cells</td>\n",
       "      <td>pancreas</td>\n",
       "      <td>Gcg</td>\n",
       "      <td>pancreatic_A_cells;pancreas</td>\n",
       "    </tr>\n",
       "    <tr>\n",
       "      <th>2</th>\n",
       "      <td>5.716988</td>\n",
       "      <td>4.647337</td>\n",
       "      <td>2.573489</td>\n",
       "      <td>24</td>\n",
       "      <td>False</td>\n",
       "      <td>23282</td>\n",
       "      <td>mast cells</td>\n",
       "      <td>lung</td>\n",
       "      <td>Tmsb4x</td>\n",
       "      <td>mast_cells;lung</td>\n",
       "    </tr>\n",
       "    <tr>\n",
       "      <th>3</th>\n",
       "      <td>5.122446</td>\n",
       "      <td>4.616773</td>\n",
       "      <td>4.121519</td>\n",
       "      <td>4394</td>\n",
       "      <td>False</td>\n",
       "      <td>5689</td>\n",
       "      <td>microglia</td>\n",
       "      <td>brain</td>\n",
       "      <td>Hexb</td>\n",
       "      <td>microglia;brain</td>\n",
       "    </tr>\n",
       "    <tr>\n",
       "      <th>4</th>\n",
       "      <td>5.003388</td>\n",
       "      <td>4.507700</td>\n",
       "      <td>2.240599</td>\n",
       "      <td>89</td>\n",
       "      <td>False</td>\n",
       "      <td>17014</td>\n",
       "      <td>type II pneumocytes</td>\n",
       "      <td>lung</td>\n",
       "      <td>Sftpb</td>\n",
       "      <td>type_II_pneumocytes;lung</td>\n",
       "    </tr>\n",
       "  </tbody>\n",
       "</table>\n",
       "</div>"
      ],
      "text/plain": [
       "       mean    cohenD  localScoreCellType  countOfCells  cohendNA  geneId  \\\n",
       "0  8.853313  8.359104            0.615536           155     False   19188   \n",
       "1  7.706127  4.943145            1.058810           390     False   11271   \n",
       "2  5.716988  4.647337            2.573489            24     False   23282   \n",
       "3  5.122446  4.616773            4.121519          4394     False    5689   \n",
       "4  5.003388  4.507700            2.240599            89     False   17014   \n",
       "\n",
       "              cellType   tissueType geneName                      cluster  \n",
       "0        erythroblasts  bone marrow   Beta-s    erythroblasts;bone_marrow  \n",
       "1   pancreatic A cells     pancreas      Gcg  pancreatic_A_cells;pancreas  \n",
       "2           mast cells         lung   Tmsb4x              mast_cells;lung  \n",
       "3            microglia        brain     Hexb              microglia;brain  \n",
       "4  type II pneumocytes         lung    Sftpb     type_II_pneumocytes;lung  "
      ]
     },
     "execution_count": 5,
     "metadata": {},
     "output_type": "execute_result"
    }
   ],
   "source": [
    "data_all.head()"
   ]
  },
  {
   "cell_type": "code",
   "execution_count": 6,
   "metadata": {},
   "outputs": [],
   "source": [
    "gene_cluster_localScore = data_all.pivot(index = 'geneName', columns = 'cluster', values = 'localScoreCellType')\n",
    "gene_cluster_cohend = data_all.pivot(index = 'geneName', columns = 'cluster', values = 'cohenD')"
   ]
  },
  {
   "cell_type": "code",
   "execution_count": 195,
   "metadata": {},
   "outputs": [],
   "source": [
    "def get_top_genes_vector(df, top_n = None, quantile = 0.995):\n",
    "    #matrix 1: top-genes means (shape: 1*N)\n",
    "    cutoff = df.cohenD.quantile([0.995]).values[0]\n",
    "    df = df.set_index('geneName')\n",
    "    top_genes_vec = df.loc[df.cohenD >= cutoff, 'mean']\n",
    "    if top_n:\n",
    "        return top_genes_vec.sort_values(ascending = False)[0:top_n]\n",
    "    \n",
    "    return top_genes_vec"
   ]
  },
  {
   "cell_type": "code",
   "execution_count": 223,
   "metadata": {},
   "outputs": [],
   "source": [
    "def get_matrix(top_genes_mean, metric = 'cosiine'):\n",
    "    cluster = top_genes_mean.cluster[0]\n",
    "    #matrix 1: top-genes means (shape: 1*N)\n",
    "    top_genes_mean = top_genes_mean.drop(columns = 'cluster').set_index('geneName').transpose()\n",
    "    #matrix 2: top-genes(N) vs all - clusters'(M) local score (shape: N*M)\n",
    "    gene_local_score_subset = gene_cluster_localScore.loc[top_genes_mean.columns,:]\n",
    "    \n",
    "    assert top_genes_mean.shape[1] == gene_local_score_subset.shape[0]\n",
    "    if metric == 'cosine':\n",
    "        cs = cosine_similarity(top_genes_mean.to_numpy(), gene_local_score_subset.transpose())\n",
    "        cs = pd.Series(cs.reshape(-1), index = gene_local_score_subset.columns)\n",
    "    elif metric == 'norm':\n",
    "        cs = gene_local_score_subset.pow(2).sum().pow(1/2)\n",
    "    \n",
    "    return cs"
   ]
  },
  {
   "cell_type": "code",
   "execution_count": 224,
   "metadata": {},
   "outputs": [],
   "source": [
    "n_genes = [5, 10, 25]\n",
    "for n in n_genes:\n",
    "    cluster_mean_vectors = data_all.groupby('cluster').apply(lambda x: get_top_genes_vector(x, top_n = n))\n",
    "    cluster_mean_vectors = cluster_mean_vectors.reset_index()\n",
    "    res = cluster_mean_vectors.groupby('cluster').apply(lambda x: get_matrix(x, 'norm'))\n",
    "    res.index = res.index + '_TRUE'\n",
    "    res.to_csv('./data/RSS_top_%s_genes.csv'%n)"
   ]
  },
  {
   "cell_type": "code",
   "execution_count": 225,
   "metadata": {},
   "outputs": [
    {
     "data": {
      "text/plain": [
       "cluster\n",
       "Alveolar_macrophages;lung_TRUE               Index(['macrophages;spleen', 'macrophages;musc...\n",
       "Astrocytes;brain_TRUE                        Index(['Astrocytes;brain', 'Bergmann_glial_cel...\n",
       "B_cells;adipose_tissue_TRUE                  Index(['B_cells;breast', 'B_cells;spleen', 'B_...\n",
       "B_cells;bone_marrow_TRUE                     Index(['B_cells;muscle_organ', 'B_cells;adipos...\n",
       "B_cells;breast_TRUE                          Index(['erythrocytes;vasculature', 'Blood_cell...\n",
       "                                                                   ...                        \n",
       "smooth_muscle_cells;heart_TRUE               Index(['fibroblasts;vasculature', 'fibroblasts...\n",
       "stem_cells_of_epidermis;skin_of_body_TRUE    Index(['professional_antigen_presenting_cells;...\n",
       "stromal_cells;breast_TRUE                    Index(['fibroblasts;heart', 'fibroblasts;vascu...\n",
       "stromal_cells;lung_TRUE                      Index(['fibroblasts;heart', 'fibroblasts;vascu...\n",
       "type_II_pneumocytes;lung_TRUE                Index(['macrophages;kidney', 'macrophages;brea...\n",
       "Length: 148, dtype: object"
      ]
     },
     "execution_count": 225,
     "metadata": {},
     "output_type": "execute_result"
    }
   ],
   "source": [
    "res.apply(lambda x: x.sort_values(ascending = False).index, axis = 1)"
   ]
  },
  {
   "cell_type": "markdown",
   "metadata": {},
   "source": [
    "### Previous code"
   ]
  },
  {
   "cell_type": "code",
   "execution_count": null,
   "metadata": {},
   "outputs": [],
   "source": [
    "collection =  'patrick-cells-pl-200304'\n",
    "n = 10\n",
    "def query_lab(gene_list, n=n, collection=collection, window = 101):\n",
    "    result_df = pd.DataFrame()\n",
    "    for gene in tqdm(gene_list[0:n]): \n",
    "        query = gene\n",
    "        res = nf.get_signals_lab(query = query, control_collection = collection, \n",
    "                                 window = window)\n",
    "\n",
    "        if type(res)!= str:\n",
    "            res = pd.DataFrame(res)\n",
    "            res['gene'] = gene\n",
    "            result_df = pd.concat([result_df, res])\n",
    "        #res.token = res.token.str.upper()\n",
    "     \n",
    "    return result_df.pivot(index = 'gene', columns = 'token', values = 'score').astype('float32')"
   ]
  },
  {
   "cell_type": "code",
   "execution_count": null,
   "metadata": {},
   "outputs": [],
   "source": [
    "df_test = top_genes.iloc[0:1].apply(query_lab)"
   ]
  },
  {
   "cell_type": "code",
   "execution_count": null,
   "metadata": {
    "scrolled": true
   },
   "outputs": [],
   "source": [
    "df_all = top_genes.apply(query_lab)"
   ]
  },
  {
   "cell_type": "code",
   "execution_count": null,
   "metadata": {},
   "outputs": [],
   "source": [
    "syns_all  =  set([tok for ls in syns for tok in ls])\n",
    "def sort_df(df, q = [0.3, 0.5, 0.75], by = [0.75, 0.5, 0.3]):\n",
    "    df_collapsed = pd.DataFrame()\n",
    "    df = df.T\n",
    "    no_match = df.index.difference(syns_all)\n",
    "#     print(no_match)\n",
    "    df.insert(loc = 0, column = 'count', value = n - df.isna().sum(1))\n",
    "    for i, syn in tqdm(enumerate(syns)):\n",
    "        df_subset = df[df.index.isin(syn)]\n",
    "        if not df_subset.empty:\n",
    "#             print(i)\n",
    "#             print('\\n',df_subset.index)\n",
    "            \n",
    "            df_idx = df_subset['count'].idxmax()\n",
    "            df_max = df_subset.max()\n",
    "            df_max.name = df_idx\n",
    "            df_collapsed = pd.concat([df_collapsed, df_max], axis=1)\n",
    "    if not df.loc[no_match,:].empty:\n",
    "        df_collapsed = pd.concat([df_collapsed, df.loc[no_match,:].T], axis = 1)\n",
    "    quantiles = df_collapsed.quantile(q, axis = 0)\n",
    "    df_collapsed = pd.concat([quantiles, df_collapsed]).T\n",
    "    df_collapsed = df_collapsed.sort_values(by = by, ascending = False)\n",
    "    \n",
    "    return df_collapsed.drop_duplicates()"
   ]
  },
  {
   "cell_type": "code",
   "execution_count": null,
   "metadata": {},
   "outputs": [],
   "source": [
    "df_all[0].T"
   ]
  },
  {
   "cell_type": "code",
   "execution_count": null,
   "metadata": {},
   "outputs": [],
   "source": [
    "sorted_dfs = list(map(sort_df, df_all))"
   ]
  },
  {
   "cell_type": "code",
   "execution_count": null,
   "metadata": {},
   "outputs": [],
   "source": [
    "z = df_all[0].columns.difference(syns_all)"
   ]
  },
  {
   "cell_type": "code",
   "execution_count": null,
   "metadata": {},
   "outputs": [],
   "source": [
    "df_all[0].loc[:,'yolk_sac_derived_macrophages']"
   ]
  },
  {
   "cell_type": "code",
   "execution_count": null,
   "metadata": {
    "scrolled": false
   },
   "outputs": [],
   "source": [
    "lit_df = pd.DataFrame()\n",
    "for i, idx in enumerate(top_genes.index):\n",
    "    df = sorted_dfs[i].copy(deep = True)\n",
    "#     df.insert(loc = 0, column = 'count', value = n - df.isna().sum(1))\n",
    "    df.insert(loc = 0, column = 'tissue', value = idx[0])\n",
    "    df.insert(loc = 0, column = 'true_cell', value = idx[1])\n",
    "    df = df.reset_index(drop = False, inplace = False)\n",
    "    df.columns = ['token'] + df.columns[1:].to_list()\n",
    "#     df = df[df['count'] > 3]\n",
    "    lit_df = pd.concat([lit_df, df.loc[0:10, ['token', 'true_cell', 'tissue', 'count']]])"
   ]
  },
  {
   "cell_type": "code",
   "execution_count": null,
   "metadata": {},
   "outputs": [],
   "source": [
    "lit_df.to_csv('./data/t10_genes_per_cluster.csv')"
   ]
  },
  {
   "cell_type": "code",
   "execution_count": null,
   "metadata": {},
   "outputs": [],
   "source": [
    "lit_df"
   ]
  },
  {
   "cell_type": "code",
   "execution_count": null,
   "metadata": {},
   "outputs": [],
   "source": [
    "ees_tokens = pd.read_csv('./data/appendTokens.csv', sep = '\\t', header=None)"
   ]
  },
  {
   "cell_type": "code",
   "execution_count": null,
   "metadata": {},
   "outputs": [],
   "source": [
    "ees_tokens.columns = ['token', 'syn']"
   ]
  },
  {
   "cell_type": "code",
   "execution_count": null,
   "metadata": {},
   "outputs": [],
   "source": [
    "synonyms = ees_tokens.groupby('token').apply(lambda x: x.syn.to_list())"
   ]
  },
  {
   "cell_type": "code",
   "execution_count": null,
   "metadata": {},
   "outputs": [],
   "source": [
    "all_syns = [set([idx]+syn) for idx, syn in synonyms.iteritems()]"
   ]
  },
  {
   "cell_type": "code",
   "execution_count": null,
   "metadata": {},
   "outputs": [],
   "source": [
    "tokens = sorted_dfs[0].index\n",
    "syn_mat = pd.DataFrame(np.eye(len(tokens)), index=idx, columns=idx)"
   ]
  },
  {
   "cell_type": "code",
   "execution_count": null,
   "metadata": {},
   "outputs": [],
   "source": [
    "ees_ = ees_tokens.copy(deep = True)\n",
    "ees_['val'] = 1\n",
    "ees_1 = pd.pivot_table(ees_, index='token', columns='syn', values = 'val').fillna(0)\n",
    "ees_2 = pd.pivot_table(ees_, index='syn', columns='token', values = 'val').fillna(0)"
   ]
  },
  {
   "cell_type": "code",
   "execution_count": null,
   "metadata": {},
   "outputs": [],
   "source": [
    "ees_1.index.intersection(ees_2.index)"
   ]
  },
  {
   "cell_type": "code",
   "execution_count": null,
   "metadata": {},
   "outputs": [],
   "source": [
    "len(all_syns)"
   ]
  },
  {
   "cell_type": "code",
   "execution_count": null,
   "metadata": {},
   "outputs": [],
   "source": [
    "subset = {i: [] for i in range(len(all_syns))}\n",
    "duplicates = {i: [] for i in range(len(all_syns))}\n",
    "for i, syn_set in enumerate(all_syns):\n",
    "    for j, syn_set_ in enumerate(all_syns):\n",
    "        if (i!=j) & (len(syn_set.intersection(syn_set_)) > 0):\n",
    "            print('\\n',i, j, '\\nIntersection: ', syn_set.intersection(syn_set_))\n",
    "            if syn_set_ == syn_set:\n",
    "                duplicates[i].append(j)\n",
    "            else:\n",
    "                subset[i].append(j)\n",
    "                \n",
    "                "
   ]
  },
  {
   "cell_type": "code",
   "execution_count": null,
   "metadata": {},
   "outputs": [],
   "source": [
    "subset"
   ]
  },
  {
   "cell_type": "code",
   "execution_count": null,
   "metadata": {},
   "outputs": [],
   "source": [
    "syns = []\n",
    "for k, v in subset.items():\n",
    "    if v:\n",
    "        syn_subset = synonyms.iloc[[k]+v]\n",
    "        print(syn_subset.index)\n",
    "        s = list(set(syn_subset.explode().to_list() + syn_subset.index.to_list()))\n",
    "        if s not in syns:\n",
    "            syns.append(s)\n",
    "    else:\n",
    "        syns.append(list(set(synonyms.iloc[k] + [synonyms.index[k]])))"
   ]
  },
  {
   "cell_type": "code",
   "execution_count": null,
   "metadata": {
    "scrolled": true
   },
   "outputs": [],
   "source": [
    "syns"
   ]
  },
  {
   "cell_type": "code",
   "execution_count": null,
   "metadata": {},
   "outputs": [],
   "source": [
    "d[d.index.isin(syns[1])]"
   ]
  },
  {
   "cell_type": "code",
   "execution_count": null,
   "metadata": {},
   "outputs": [],
   "source": []
  }
 ],
 "metadata": {
  "kernelspec": {
   "display_name": "Python 3",
   "language": "python",
   "name": "python3"
  },
  "language_info": {
   "codemirror_mode": {
    "name": "ipython",
    "version": 3
   },
   "file_extension": ".py",
   "mimetype": "text/x-python",
   "name": "python",
   "nbconvert_exporter": "python",
   "pygments_lexer": "ipython3",
   "version": "3.7.5"
  }
 },
 "nbformat": 4,
 "nbformat_minor": 2
}
