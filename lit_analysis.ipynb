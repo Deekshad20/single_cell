{
 "cells": [
  {
   "cell_type": "code",
   "execution_count": 1,
   "metadata": {},
   "outputs": [
    {
     "name": "stdout",
     "output_type": "stream",
     "text": [
      "nferx_py v1.6.3 is currently installed. Please upgrade to the latest version v1.6.0. Installation link: https://github.com/lumenbiomics/nferx_py\n"
     ]
    }
   ],
   "source": [
    "import requests\n",
    "import json\n",
    "import nferx_py.fn as nf\n",
    "import pandas as pd\n",
    "from multiprocessing import pool\n",
    "import seaborn as sns\n",
    "from tqdm import tqdm\n",
    "from nltk.stem import SnowballStemmer\n",
    "from gensim.utils import simple_preprocess\n",
    "import numpy as np\n",
    "from tqdm.notebook import tqdm\n",
    "from sklearn.metrics.pairwise import cosine_similarity"
   ]
  },
  {
   "cell_type": "code",
   "execution_count": 2,
   "metadata": {},
   "outputs": [],
   "source": [
    "stemmer = SnowballStemmer('english')"
   ]
  },
  {
   "cell_type": "code",
   "execution_count": 3,
   "metadata": {},
   "outputs": [
    {
     "name": "stderr",
     "output_type": "stream",
     "text": [
      "2020-05-13 11:56:00,120 : INFO : Authentication successful - nferX is online\n",
      "2020-05-13 11:56:00,121 : INFO : Default parameter server modified\n",
      "2020-05-13 11:56:00,122 : INFO : Default parameter api_server modified\n"
     ]
    }
   ],
   "source": [
    "nf.authenticate('nfer','6eaa1d27bfa0639f2712191fa55df872')\n",
    "nf.modify_defaults('server', 'preview')\n",
    "nf.modify_defaults('api_server', 'preview')\n",
    "AUTH = nf.AUTH"
   ]
  },
  {
   "attachments": {},
   "cell_type": "markdown",
   "metadata": {},
   "source": [
    "### notes\n",
    "1. Get local scores for all gene/cell combinations from single cell api for Tabula muris (study 2) and mouse cell atlas (study 15)\n",
    "2. Do \"intra-study\" testing: for each Tabula Muris cluster, (1) identify the subset of genes to consider (e.g. top 0.05% by cohen's D vs. all other cells), (2) calculate cosine similarity between mean CP10K vector of this gene subset and the literature score vectors for all Tabula Muris cell types with this same gene subset. This would give us a ranked list of literature-derived labels for each cluster. Then repeat this with Mouse Cell Atlas. ---- Cosine sim did not work out---- Switched to calculating vector norms of literature scores of top genes from selected from cluster A, accross all clusters \n",
    "\n",
    "- For each cluster to label C:\n",
    "    1. Select the top n genes by Cohen’s D (e.g. top 5, 10, 25)\n",
    "    2. From API, get the fraction of cells in cluster C which express each gene\n",
    "    3. From literature reference table, get the local scores between each reference cell type and the top n genes\n",
    "    4. Multiply “Fraction cells expressing in cluster C” column by each “Ref_CellTypeX_LocalScores” column to get a set of “literature encoded expression vectors” for each reference cell type\n",
    "    5. For each “Lit Encoded Vector” column, calculate L0, L1, L2, and L-inf norms\n",
    "        L0: number of non-zero elements\n",
    "        L1: sum of all values\n",
    "        L2: square root of sum of squares\n",
    "        L-inf: max value\n",
    "    Output: four tables of Clusters To Label (rows) * Reference Cell Types \n",
    "    Table 1 = L0 norm, Table 2 = L1 norm, Table 3 = L2 norm, Table 4 = L-inf norm\n",
    "\n",
    "-------------step 4 yet to be done------------------------\n",
    "4. Do \"inter-study\" testing: for each Tabula Muris cluster, (1) identify the subset of genes to consider (e.g. top 0.05% by cohen's D vs. all other cells), (2) calculate cosine similarity between mean CP10K vector of this gene subset and the literature score vectors for all Mouse Cell Atlas cell types with this same gene subset. Then repeat this to label all Mouse Cell Atlas clusters using the literature vectors from the Tabula Muris dataset. This will require some handling of synonyms/cell \"families\" which I provided to Katie for this analysis ... but we could go over that later since step 2 alone will take some time to set up and optimize I think"
   ]
  },
  {
   "cell_type": "markdown",
   "metadata": {},
   "source": [
    "### POST to single cell api to get the table"
   ]
  },
  {
   "cell_type": "code",
   "execution_count": 8,
   "metadata": {},
   "outputs": [
    {
     "name": "stderr",
     "output_type": "stream",
     "text": [
      "2020-05-13 13:08:34,370 : INFO : NumExpr defaulting to 8 threads.\n"
     ]
    }
   ],
   "source": [
    "URL = 'https://pre-staging.nferx.com/singlecellapi/study2/summary?'\n",
    "headers = {'content-type' : 'application/json'}\n",
    "res = requests.post(url = URL, params = {'page': 1, 'rows': 3412880}, auth = AUTH)\n",
    "data_all = pd.DataFrame(res.json()['result']['data'])\n",
    "# d.drop(columns=['localScoreCellType', 'localScoreTissueType', 'greaterThanZero'], inplace = True)\n",
    "\n",
    "# data_all.drop(columns=['localScoreTissueType', 'greaterThanZero'], inplace = True)\n",
    "data_all.localScoreCellType = [d['localScore'] for d in data_all.localScoreCellType]\n",
    "data_all['cluster'] = data_all.cellType.str.replace(' ', '_') + ';'+data_all.tissueType.str.replace(' ', '_')"
   ]
  },
  {
   "cell_type": "code",
   "execution_count": 11,
   "metadata": {},
   "outputs": [
    {
     "data": {
      "text/html": [
       "<div>\n",
       "<style scoped>\n",
       "    .dataframe tbody tr th:only-of-type {\n",
       "        vertical-align: middle;\n",
       "    }\n",
       "\n",
       "    .dataframe tbody tr th {\n",
       "        vertical-align: top;\n",
       "    }\n",
       "\n",
       "    .dataframe thead th {\n",
       "        text-align: right;\n",
       "    }\n",
       "</style>\n",
       "<table border=\"1\" class=\"dataframe\">\n",
       "  <thead>\n",
       "    <tr style=\"text-align: right;\">\n",
       "      <th></th>\n",
       "      <th>mean</th>\n",
       "      <th>cohenD</th>\n",
       "      <th>greaterThanZero</th>\n",
       "      <th>localScoreCellType</th>\n",
       "      <th>localScoreTissueType</th>\n",
       "      <th>countOfCells</th>\n",
       "      <th>cohendNA</th>\n",
       "      <th>geneId</th>\n",
       "      <th>cellType</th>\n",
       "      <th>tissueType</th>\n",
       "      <th>geneName</th>\n",
       "      <th>cluster</th>\n",
       "    </tr>\n",
       "  </thead>\n",
       "  <tbody>\n",
       "    <tr>\n",
       "      <th>0</th>\n",
       "      <td>8.853313</td>\n",
       "      <td>8.359104</td>\n",
       "      <td>100.000000</td>\n",
       "      <td>0.615536</td>\n",
       "      <td>{'localScore': 0.5205630660057068, 'globalScor...</td>\n",
       "      <td>155</td>\n",
       "      <td>False</td>\n",
       "      <td>19188</td>\n",
       "      <td>erythroblasts</td>\n",
       "      <td>bone marrow</td>\n",
       "      <td>Beta-s</td>\n",
       "      <td>erythroblasts;bone_marrow</td>\n",
       "    </tr>\n",
       "    <tr>\n",
       "      <th>1</th>\n",
       "      <td>7.706127</td>\n",
       "      <td>4.943145</td>\n",
       "      <td>100.000000</td>\n",
       "      <td>1.058810</td>\n",
       "      <td>{'localScore': 3.3489274978637695, 'globalScor...</td>\n",
       "      <td>390</td>\n",
       "      <td>False</td>\n",
       "      <td>11271</td>\n",
       "      <td>pancreatic A cells</td>\n",
       "      <td>pancreas</td>\n",
       "      <td>Gcg</td>\n",
       "      <td>pancreatic_A_cells;pancreas</td>\n",
       "    </tr>\n",
       "    <tr>\n",
       "      <th>2</th>\n",
       "      <td>5.716988</td>\n",
       "      <td>4.647337</td>\n",
       "      <td>100.000000</td>\n",
       "      <td>2.573489</td>\n",
       "      <td>{'localScore': 1.1692416667938232, 'globalScor...</td>\n",
       "      <td>24</td>\n",
       "      <td>False</td>\n",
       "      <td>23282</td>\n",
       "      <td>mast cells</td>\n",
       "      <td>lung</td>\n",
       "      <td>Tmsb4x</td>\n",
       "      <td>mast_cells;lung</td>\n",
       "    </tr>\n",
       "    <tr>\n",
       "      <th>3</th>\n",
       "      <td>5.122446</td>\n",
       "      <td>4.616773</td>\n",
       "      <td>99.977242</td>\n",
       "      <td>4.121519</td>\n",
       "      <td>{'localScore': 3.4461004734039307, 'globalScor...</td>\n",
       "      <td>4394</td>\n",
       "      <td>False</td>\n",
       "      <td>5689</td>\n",
       "      <td>microglia</td>\n",
       "      <td>brain</td>\n",
       "      <td>Hexb</td>\n",
       "      <td>microglia;brain</td>\n",
       "    </tr>\n",
       "    <tr>\n",
       "      <th>4</th>\n",
       "      <td>5.003388</td>\n",
       "      <td>4.507700</td>\n",
       "      <td>100.000000</td>\n",
       "      <td>2.240599</td>\n",
       "      <td>{'localScore': 5.230236530303955, 'globalScore...</td>\n",
       "      <td>89</td>\n",
       "      <td>False</td>\n",
       "      <td>17014</td>\n",
       "      <td>type II pneumocytes</td>\n",
       "      <td>lung</td>\n",
       "      <td>Sftpb</td>\n",
       "      <td>type_II_pneumocytes;lung</td>\n",
       "    </tr>\n",
       "  </tbody>\n",
       "</table>\n",
       "</div>"
      ],
      "text/plain": [
       "       mean    cohenD  greaterThanZero  localScoreCellType  \\\n",
       "0  8.853313  8.359104       100.000000            0.615536   \n",
       "1  7.706127  4.943145       100.000000            1.058810   \n",
       "2  5.716988  4.647337       100.000000            2.573489   \n",
       "3  5.122446  4.616773        99.977242            4.121519   \n",
       "4  5.003388  4.507700       100.000000            2.240599   \n",
       "\n",
       "                                localScoreTissueType  countOfCells  cohendNA  \\\n",
       "0  {'localScore': 0.5205630660057068, 'globalScor...           155     False   \n",
       "1  {'localScore': 3.3489274978637695, 'globalScor...           390     False   \n",
       "2  {'localScore': 1.1692416667938232, 'globalScor...            24     False   \n",
       "3  {'localScore': 3.4461004734039307, 'globalScor...          4394     False   \n",
       "4  {'localScore': 5.230236530303955, 'globalScore...            89     False   \n",
       "\n",
       "   geneId             cellType   tissueType geneName  \\\n",
       "0   19188        erythroblasts  bone marrow   Beta-s   \n",
       "1   11271   pancreatic A cells     pancreas      Gcg   \n",
       "2   23282           mast cells         lung   Tmsb4x   \n",
       "3    5689            microglia        brain     Hexb   \n",
       "4   17014  type II pneumocytes         lung    Sftpb   \n",
       "\n",
       "                       cluster  \n",
       "0    erythroblasts;bone_marrow  \n",
       "1  pancreatic_A_cells;pancreas  \n",
       "2              mast_cells;lung  \n",
       "3              microglia;brain  \n",
       "4     type_II_pneumocytes;lung  "
      ]
     },
     "execution_count": 11,
     "metadata": {},
     "output_type": "execute_result"
    }
   ],
   "source": [
    "data_all.head()"
   ]
  },
  {
   "cell_type": "code",
   "execution_count": 12,
   "metadata": {},
   "outputs": [],
   "source": [
    "gene_cluster_localScore = data_all.pivot(index = 'geneName', columns = 'cluster', values = 'localScoreCellType')\n",
    "gene_cluster_cohend = data_all.pivot(index = 'geneName', columns = 'cluster', values = 'cohenD')"
   ]
  },
  {
   "cell_type": "code",
   "execution_count": 37,
   "metadata": {},
   "outputs": [],
   "source": [
    "def get_top_genes_vector(df, top_n = None, quantile = 0.995, cols = ['cohenD', 'mean', 'greaterThanZero']):\n",
    "    #matrix 1: top-genes means (shape: 1*N)\n",
    "    df = df.set_index('geneName')\n",
    "    if top_n:\n",
    "        return df.sort_values(by = 'cohenD', ascending = False)[cols].iloc[0:top_n]\n",
    "    \n",
    "    cutoff = df.cohenD.quantile([0.995]).values[0]\n",
    "    top_genes_vec = df.loc[df.cohenD >= cutoff, cols]\n",
    "    \n",
    "    \n",
    "    return top_genes_vec"
   ]
  },
  {
   "cell_type": "code",
   "execution_count": 114,
   "metadata": {},
   "outputs": [],
   "source": [
    "def get_matrix(top_genes_subset, metric = 'cosine'):\n",
    "    cluster = top_genes_subset.cluster[0]\n",
    "    #matrix 1: top-genes means (shape: 1*N)\n",
    "    top_genes_mean = top_genes_subset.loc[:, ['geneName', 'mean']].set_index('geneName').transpose()\n",
    "    #matrix 2: top-genes(N) vs all - clusters'(M) local score (shape: N*M)\n",
    "    gene_local_score_subset = gene_cluster_localScore.loc[top_genes_mean.columns,:]\n",
    "    \n",
    "    #get literature vector\n",
    "    lit_encoded_subset = gene_local_score_subset.multiply(top_genes_subset.loc[:, 'greaterThanZero'].values, \n",
    "                                                              axis = 0)\n",
    "    \n",
    "    #apply norms\n",
    "    \n",
    "    if metric == 'norm-all':\n",
    "        score0 = (lit_encoded_subset != 0).sum()\n",
    "        score1 = lit_encoded_subset.sum()\n",
    "        score2 = lit_encoded_subset.pow(2).sum().pow(1/2)\n",
    "        scoreINF = lit_encoded_subset.max()\n",
    "        \n",
    "        return [score0, score1, score2, scoreINF]\n",
    "    \n",
    "    elif metric == 'cosine':\n",
    "        assert top_genes_mean.shape[1] == lit_encoded_subset.shape[0]\n",
    "        score = cosine_similarity(top_genes_mean.to_numpy(), lit_encoded_subset.transpose())\n",
    "        score = pd.Series(score.reshape(-1), index = lit_encoded_subset.columns)\n",
    "    elif metric == 'l0':\n",
    "        score = (lit_encoded_subset != 0).sum()\n",
    "    elif metric == 'l1':\n",
    "        score = lit_encoded_subset.sum()\n",
    "    elif metric == 'l2':\n",
    "        score = lit_encoded_subset.pow(2).sum().pow(1/2)\n",
    "    elif metric == 'inf':\n",
    "        score = lit_encoded_subset.max()\n",
    "    \n",
    "    return score"
   ]
  },
  {
   "cell_type": "code",
   "execution_count": 138,
   "metadata": {
    "collapsed": true
   },
   "outputs": [
    {
     "name": "stdout",
     "output_type": "stream",
     "text": [
      "L0\n",
      "L1\n",
      "L2\n",
      "Linf\n",
      "L0\n",
      "L1\n",
      "L2\n",
      "Linf\n",
      "L0\n",
      "L1\n",
      "L2\n",
      "Linf\n"
     ]
    }
   ],
   "source": [
    "#top n genes; all norrms\n",
    "n_genes = [5, 10, 25]\n",
    "metric = 'norm-all'\n",
    "for n in n_genes:\n",
    "    cluster_mean_vectors = data_all.groupby('cluster').apply(lambda x: get_top_genes_vector(x, top_n = n))\n",
    "    cluster_mean_vectors.loc[:, 'greaterThanZero'] = cluster_mean_vectors.loc[:, 'greaterThanZero']/100\n",
    "    cluster_mean_vectors = cluster_mean_vectors.reset_index()\n",
    "    res = cluster_mean_vectors.groupby('cluster').apply(lambda x: get_matrix(x, metric))\n",
    "    if metric == 'norm-all':\n",
    "        L0 = L1 = L2 = Linf = pd.DataFrame()\n",
    "        dfs = [L0, L1, L2, Linf]\n",
    "        norms = ['L0', 'L1', 'L2', 'Linf']\n",
    "        for i, df in enumerate(dfs):\n",
    "            df = res.apply(lambda x: x[i])\n",
    "            df.index = df.index + '_TRUE'\n",
    "            df.to_csv('./data/norms/%s_norm_%s_genes.csv'%(norms[i], n))\n",
    "    else:\n",
    "        res.index = res.index + '_TRUE'\n",
    "        res.to_csv('./data/norms/%s_top_%s_genes.csv'%(metric, n))"
   ]
  },
  {
   "cell_type": "code",
   "execution_count": 129,
   "metadata": {},
   "outputs": [],
   "source": [
    "#mappings frorm pat\n",
    "cell_maps = pd.read_csv('./data/TM_clusters_map.csv')"
   ]
  },
  {
   "cell_type": "code",
   "execution_count": null,
   "metadata": {},
   "outputs": [],
   "source": [
    "files = "
   ]
  },
  {
   "cell_type": "code",
   "execution_count": 130,
   "metadata": {},
   "outputs": [
    {
     "data": {
      "text/html": [
       "<div>\n",
       "<style scoped>\n",
       "    .dataframe tbody tr th:only-of-type {\n",
       "        vertical-align: middle;\n",
       "    }\n",
       "\n",
       "    .dataframe tbody tr th {\n",
       "        vertical-align: top;\n",
       "    }\n",
       "\n",
       "    .dataframe thead th {\n",
       "        text-align: right;\n",
       "    }\n",
       "</style>\n",
       "<table border=\"1\" class=\"dataframe\">\n",
       "  <thead>\n",
       "    <tr style=\"text-align: right;\">\n",
       "      <th></th>\n",
       "      <th>cluster</th>\n",
       "      <th>map</th>\n",
       "    </tr>\n",
       "  </thead>\n",
       "  <tbody>\n",
       "    <tr>\n",
       "      <th>0</th>\n",
       "      <td>Alveolar_macrophages.lung</td>\n",
       "      <td>macrophages</td>\n",
       "    </tr>\n",
       "    <tr>\n",
       "      <th>1</th>\n",
       "      <td>Astrocytes.brain</td>\n",
       "      <td>astrocytes</td>\n",
       "    </tr>\n",
       "    <tr>\n",
       "      <th>2</th>\n",
       "      <td>B_cells.adipose_tissue</td>\n",
       "      <td>B cells</td>\n",
       "    </tr>\n",
       "    <tr>\n",
       "      <th>3</th>\n",
       "      <td>B_cells.bone_marrow</td>\n",
       "      <td>B cells</td>\n",
       "    </tr>\n",
       "    <tr>\n",
       "      <th>4</th>\n",
       "      <td>B_cells.breast</td>\n",
       "      <td>B cells</td>\n",
       "    </tr>\n",
       "    <tr>\n",
       "      <th>...</th>\n",
       "      <td>...</td>\n",
       "      <td>...</td>\n",
       "    </tr>\n",
       "    <tr>\n",
       "      <th>143</th>\n",
       "      <td>smooth_muscle_cells.heart</td>\n",
       "      <td>smooth muscle cells</td>\n",
       "    </tr>\n",
       "    <tr>\n",
       "      <th>144</th>\n",
       "      <td>stem_cells_of_epidermis.skin_of_body</td>\n",
       "      <td>epidermal cells</td>\n",
       "    </tr>\n",
       "    <tr>\n",
       "      <th>145</th>\n",
       "      <td>stromal_cells.breast</td>\n",
       "      <td>stromal cells</td>\n",
       "    </tr>\n",
       "    <tr>\n",
       "      <th>146</th>\n",
       "      <td>stromal_cells.lung</td>\n",
       "      <td>stromal cells</td>\n",
       "    </tr>\n",
       "    <tr>\n",
       "      <th>147</th>\n",
       "      <td>type_II_pneumocytes.lung</td>\n",
       "      <td>type II pneumocytes</td>\n",
       "    </tr>\n",
       "  </tbody>\n",
       "</table>\n",
       "<p>148 rows × 2 columns</p>\n",
       "</div>"
      ],
      "text/plain": [
       "                                  cluster                  map\n",
       "0               Alveolar_macrophages.lung          macrophages\n",
       "1                        Astrocytes.brain           astrocytes\n",
       "2                  B_cells.adipose_tissue              B cells\n",
       "3                     B_cells.bone_marrow              B cells\n",
       "4                          B_cells.breast              B cells\n",
       "..                                    ...                  ...\n",
       "143             smooth_muscle_cells.heart  smooth muscle cells\n",
       "144  stem_cells_of_epidermis.skin_of_body      epidermal cells\n",
       "145                  stromal_cells.breast        stromal cells\n",
       "146                    stromal_cells.lung        stromal cells\n",
       "147              type_II_pneumocytes.lung  type II pneumocytes\n",
       "\n",
       "[148 rows x 2 columns]"
      ]
     },
     "execution_count": 130,
     "metadata": {},
     "output_type": "execute_result"
    }
   ],
   "source": [
    "cell_maps"
   ]
  },
  {
   "cell_type": "markdown",
   "metadata": {},
   "source": [
    "### Previous code"
   ]
  },
  {
   "cell_type": "code",
   "execution_count": 61,
   "metadata": {},
   "outputs": [
    {
     "data": {
      "text/html": [
       "<div>\n",
       "<style scoped>\n",
       "    .dataframe tbody tr th:only-of-type {\n",
       "        vertical-align: middle;\n",
       "    }\n",
       "\n",
       "    .dataframe tbody tr th {\n",
       "        vertical-align: top;\n",
       "    }\n",
       "\n",
       "    .dataframe thead th {\n",
       "        text-align: right;\n",
       "    }\n",
       "</style>\n",
       "<table border=\"1\" class=\"dataframe\">\n",
       "  <thead>\n",
       "    <tr style=\"text-align: right;\">\n",
       "      <th></th>\n",
       "      <th></th>\n",
       "      <th>cohenD</th>\n",
       "      <th>mean</th>\n",
       "      <th>greaterThanZero</th>\n",
       "    </tr>\n",
       "    <tr>\n",
       "      <th>cluster</th>\n",
       "      <th>geneName</th>\n",
       "      <th></th>\n",
       "      <th></th>\n",
       "      <th></th>\n",
       "    </tr>\n",
       "  </thead>\n",
       "  <tbody>\n",
       "    <tr>\n",
       "      <th rowspan=\"5\" valign=\"top\">Alveolar_macrophages;lung</th>\n",
       "      <th>Chi3l3</th>\n",
       "      <td>2.911539</td>\n",
       "      <td>4.482258</td>\n",
       "      <td>100.000000</td>\n",
       "    </tr>\n",
       "    <tr>\n",
       "      <th>Tmsb4x</th>\n",
       "      <td>2.888863</td>\n",
       "      <td>5.654968</td>\n",
       "      <td>100.000000</td>\n",
       "    </tr>\n",
       "    <tr>\n",
       "      <th>Sepx1</th>\n",
       "      <td>2.431341</td>\n",
       "      <td>2.659609</td>\n",
       "      <td>99.420290</td>\n",
       "    </tr>\n",
       "    <tr>\n",
       "      <th>Cd44</th>\n",
       "      <td>2.388964</td>\n",
       "      <td>2.767570</td>\n",
       "      <td>99.710145</td>\n",
       "    </tr>\n",
       "    <tr>\n",
       "      <th>Serf2</th>\n",
       "      <td>2.347590</td>\n",
       "      <td>3.166469</td>\n",
       "      <td>99.710145</td>\n",
       "    </tr>\n",
       "  </tbody>\n",
       "</table>\n",
       "</div>"
      ],
      "text/plain": [
       "                                      cohenD      mean  greaterThanZero\n",
       "cluster                   geneName                                     \n",
       "Alveolar_macrophages;lung Chi3l3    2.911539  4.482258       100.000000\n",
       "                          Tmsb4x    2.888863  5.654968       100.000000\n",
       "                          Sepx1     2.431341  2.659609        99.420290\n",
       "                          Cd44      2.388964  2.767570        99.710145\n",
       "                          Serf2     2.347590  3.166469        99.710145"
      ]
     },
     "execution_count": 61,
     "metadata": {},
     "output_type": "execute_result"
    }
   ],
   "source": [
    "cluster_mean_vectors.loc[slice('Alveolar_macrophages;lung')]"
   ]
  },
  {
   "cell_type": "code",
   "execution_count": null,
   "metadata": {},
   "outputs": [],
   "source": [
    "collection =  'patrick-cells-pl-200304'\n",
    "n = 10\n",
    "def query_lab(gene_list, n=n, collection=collection, window = 101):\n",
    "    result_df = pd.DataFrame()\n",
    "    for gene in tqdm(gene_list[0:n]): \n",
    "        query = gene\n",
    "        res = nf.get_signals_lab(query = query, control_collection = collection, \n",
    "                                 window = window)\n",
    "\n",
    "        if type(res)!= str:\n",
    "            res = pd.DataFrame(res)\n",
    "            res['gene'] = gene\n",
    "            result_df = pd.concat([result_df, res])\n",
    "        #res.token = res.token.str.upper()\n",
    "     \n",
    "    return result_df.pivot(index = 'gene', columns = 'token', values = 'score').astype('float32')"
   ]
  },
  {
   "cell_type": "code",
   "execution_count": null,
   "metadata": {},
   "outputs": [],
   "source": [
    "df_test = top_genes.iloc[0:1].apply(query_lab)"
   ]
  },
  {
   "cell_type": "code",
   "execution_count": null,
   "metadata": {
    "scrolled": true
   },
   "outputs": [],
   "source": [
    "df_all = top_genes.apply(query_lab)"
   ]
  },
  {
   "cell_type": "code",
   "execution_count": null,
   "metadata": {},
   "outputs": [],
   "source": [
    "syns_all  =  set([tok for ls in syns for tok in ls])\n",
    "def sort_df(df, q = [0.3, 0.5, 0.75], by = [0.75, 0.5, 0.3]):\n",
    "    df_collapsed = pd.DataFrame()\n",
    "    df = df.T\n",
    "    no_match = df.index.difference(syns_all)\n",
    "#     print(no_match)\n",
    "    df.insert(loc = 0, column = 'count', value = n - df.isna().sum(1))\n",
    "    for i, syn in tqdm(enumerate(syns)):\n",
    "        df_subset = df[df.index.isin(syn)]\n",
    "        if not df_subset.empty:\n",
    "#             print(i)\n",
    "#             print('\\n',df_subset.index)\n",
    "            \n",
    "            df_idx = df_subset['count'].idxmax()\n",
    "            df_max = df_subset.max()\n",
    "            df_max.name = df_idx\n",
    "            df_collapsed = pd.concat([df_collapsed, df_max], axis=1)\n",
    "    if not df.loc[no_match,:].empty:\n",
    "        df_collapsed = pd.concat([df_collapsed, df.loc[no_match,:].T], axis = 1)\n",
    "    quantiles = df_collapsed.quantile(q, axis = 0)\n",
    "    df_collapsed = pd.concat([quantiles, df_collapsed]).T\n",
    "    df_collapsed = df_collapsed.sort_values(by = by, ascending = False)\n",
    "    \n",
    "    return df_collapsed.drop_duplicates()"
   ]
  },
  {
   "cell_type": "code",
   "execution_count": null,
   "metadata": {},
   "outputs": [],
   "source": [
    "df_all[0].T"
   ]
  },
  {
   "cell_type": "code",
   "execution_count": null,
   "metadata": {},
   "outputs": [],
   "source": [
    "sorted_dfs = list(map(sort_df, df_all))"
   ]
  },
  {
   "cell_type": "code",
   "execution_count": null,
   "metadata": {},
   "outputs": [],
   "source": [
    "z = df_all[0].columns.difference(syns_all)"
   ]
  },
  {
   "cell_type": "code",
   "execution_count": null,
   "metadata": {},
   "outputs": [],
   "source": [
    "df_all[0].loc[:,'yolk_sac_derived_macrophages']"
   ]
  },
  {
   "cell_type": "code",
   "execution_count": null,
   "metadata": {
    "scrolled": false
   },
   "outputs": [],
   "source": [
    "lit_df = pd.DataFrame()\n",
    "for i, idx in enumerate(top_genes.index):\n",
    "    df = sorted_dfs[i].copy(deep = True)\n",
    "#     df.insert(loc = 0, column = 'count', value = n - df.isna().sum(1))\n",
    "    df.insert(loc = 0, column = 'tissue', value = idx[0])\n",
    "    df.insert(loc = 0, column = 'true_cell', value = idx[1])\n",
    "    df = df.reset_index(drop = False, inplace = False)\n",
    "    df.columns = ['token'] + df.columns[1:].to_list()\n",
    "#     df = df[df['count'] > 3]\n",
    "    lit_df = pd.concat([lit_df, df.loc[0:10, ['token', 'true_cell', 'tissue', 'count']]])"
   ]
  },
  {
   "cell_type": "code",
   "execution_count": null,
   "metadata": {},
   "outputs": [],
   "source": [
    "lit_df.to_csv('./data/t10_genes_per_cluster.csv')"
   ]
  },
  {
   "cell_type": "code",
   "execution_count": null,
   "metadata": {},
   "outputs": [],
   "source": [
    "lit_df"
   ]
  },
  {
   "cell_type": "code",
   "execution_count": null,
   "metadata": {},
   "outputs": [],
   "source": [
    "ees_tokens = pd.read_csv('./data/appendTokens.csv', sep = '\\t', header=None)"
   ]
  },
  {
   "cell_type": "code",
   "execution_count": null,
   "metadata": {},
   "outputs": [],
   "source": [
    "ees_tokens.columns = ['token', 'syn']"
   ]
  },
  {
   "cell_type": "code",
   "execution_count": null,
   "metadata": {},
   "outputs": [],
   "source": [
    "synonyms = ees_tokens.groupby('token').apply(lambda x: x.syn.to_list())"
   ]
  },
  {
   "cell_type": "code",
   "execution_count": null,
   "metadata": {},
   "outputs": [],
   "source": [
    "all_syns = [set([idx]+syn) for idx, syn in synonyms.iteritems()]"
   ]
  },
  {
   "cell_type": "code",
   "execution_count": null,
   "metadata": {},
   "outputs": [],
   "source": [
    "tokens = sorted_dfs[0].index\n",
    "syn_mat = pd.DataFrame(np.eye(len(tokens)), index=idx, columns=idx)"
   ]
  },
  {
   "cell_type": "code",
   "execution_count": null,
   "metadata": {},
   "outputs": [],
   "source": [
    "ees_ = ees_tokens.copy(deep = True)\n",
    "ees_['val'] = 1\n",
    "ees_1 = pd.pivot_table(ees_, index='token', columns='syn', values = 'val').fillna(0)\n",
    "ees_2 = pd.pivot_table(ees_, index='syn', columns='token', values = 'val').fillna(0)"
   ]
  },
  {
   "cell_type": "code",
   "execution_count": null,
   "metadata": {},
   "outputs": [],
   "source": [
    "ees_1.index.intersection(ees_2.index)"
   ]
  },
  {
   "cell_type": "code",
   "execution_count": null,
   "metadata": {},
   "outputs": [],
   "source": [
    "len(all_syns)"
   ]
  },
  {
   "cell_type": "code",
   "execution_count": null,
   "metadata": {},
   "outputs": [],
   "source": [
    "subset = {i: [] for i in range(len(all_syns))}\n",
    "duplicates = {i: [] for i in range(len(all_syns))}\n",
    "for i, syn_set in enumerate(all_syns):\n",
    "    for j, syn_set_ in enumerate(all_syns):\n",
    "        if (i!=j) & (len(syn_set.intersection(syn_set_)) > 0):\n",
    "            print('\\n',i, j, '\\nIntersection: ', syn_set.intersection(syn_set_))\n",
    "            if syn_set_ == syn_set:\n",
    "                duplicates[i].append(j)\n",
    "            else:\n",
    "                subset[i].append(j)\n",
    "                \n",
    "                "
   ]
  },
  {
   "cell_type": "code",
   "execution_count": null,
   "metadata": {},
   "outputs": [],
   "source": [
    "subset"
   ]
  },
  {
   "cell_type": "code",
   "execution_count": null,
   "metadata": {},
   "outputs": [],
   "source": [
    "syns = []\n",
    "for k, v in subset.items():\n",
    "    if v:\n",
    "        syn_subset = synonyms.iloc[[k]+v]\n",
    "        print(syn_subset.index)\n",
    "        s = list(set(syn_subset.explode().to_list() + syn_subset.index.to_list()))\n",
    "        if s not in syns:\n",
    "            syns.append(s)\n",
    "    else:\n",
    "        syns.append(list(set(synonyms.iloc[k] + [synonyms.index[k]])))"
   ]
  },
  {
   "cell_type": "code",
   "execution_count": null,
   "metadata": {
    "scrolled": true
   },
   "outputs": [],
   "source": [
    "syns"
   ]
  },
  {
   "cell_type": "code",
   "execution_count": null,
   "metadata": {},
   "outputs": [],
   "source": [
    "d[d.index.isin(syns[1])]"
   ]
  },
  {
   "cell_type": "code",
   "execution_count": null,
   "metadata": {},
   "outputs": [],
   "source": []
  }
 ],
 "metadata": {
  "kernelspec": {
   "display_name": "Python 3",
   "language": "python",
   "name": "python3"
  },
  "language_info": {
   "codemirror_mode": {
    "name": "ipython",
    "version": 3
   },
   "file_extension": ".py",
   "mimetype": "text/x-python",
   "name": "python",
   "nbconvert_exporter": "python",
   "pygments_lexer": "ipython3",
   "version": "3.7.5"
  }
 },
 "nbformat": 4,
 "nbformat_minor": 2
}
